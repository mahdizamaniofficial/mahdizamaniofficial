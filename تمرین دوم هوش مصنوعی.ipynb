{
 "cells": [
  {
   "cell_type": "code",
   "execution_count": 1,
   "id": "eadd6cbf-f8ac-42a0-845c-a0fc9cb5b37d",
   "metadata": {},
   "outputs": [],
   "source": [
    "import numpy as np "
   ]
  },
  {
   "cell_type": "code",
   "execution_count": 5,
   "id": "eb9daca8-e9e9-4b57-8380-e3b8bbac6412",
   "metadata": {},
   "outputs": [
    {
     "name": "stdout",
     "output_type": "stream",
     "text": [
      "[[1 3]\n",
      " [4 2]] [[2 3 1]\n",
      " [1 6 1]\n",
      " [7 9 1]] [[2 1 4 1]\n",
      " [9 1 2 1]\n",
      " [1 2 4 5]\n",
      " [1 8 5 4]]\n"
     ]
    }
   ],
   "source": [
    "mat1=np.array([[1,3],[4,2]])\n",
    "mat2=np.array([[2,3,1],[1,6,1],[7,9,1]])\n",
    "mat3=np.array([[2,1,4,1],[9,1,2,1],[1,2,4,5],[1,8,5,4]])\n",
    "print(mat1,mat2,mat3)"
   ]
  },
  {
   "cell_type": "code",
   "execution_count": 32,
   "id": "50232c12-31e1-473c-b1a7-3b458d83c1e3",
   "metadata": {},
   "outputs": [
    {
     "name": "stdout",
     "output_type": "stream",
     "text": [
      "9\n"
     ]
    }
   ],
   "source": [
    "print(mat2[2,1])\n"
   ]
  },
  {
   "cell_type": "code",
   "execution_count": null,
   "id": "2344d0f5-07d9-404a-b32d-c46a53dfe91c",
   "metadata": {},
   "outputs": [],
   "source": []
  }
 ],
 "metadata": {
  "kernelspec": {
   "display_name": "Python 3 (ipykernel)",
   "language": "python",
   "name": "python3"
  },
  "language_info": {
   "codemirror_mode": {
    "name": "ipython",
    "version": 3
   },
   "file_extension": ".py",
   "mimetype": "text/x-python",
   "name": "python",
   "nbconvert_exporter": "python",
   "pygments_lexer": "ipython3",
   "version": "3.12.1"
  }
 },
 "nbformat": 4,
 "nbformat_minor": 5
}
