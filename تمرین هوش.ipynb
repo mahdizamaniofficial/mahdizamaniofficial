{
 "cells": [
  {
   "cell_type": "code",
   "execution_count": 9,
   "id": "53af7141-00f4-4b2d-8c6e-e68abddeab98",
   "metadata": {},
   "outputs": [
    {
     "name": "stdout",
     "output_type": "stream",
     "text": [
      "15 36 4.0 0\n"
     ]
    }
   ],
   "source": [
    "x=12\n",
    "y=3\n",
    "a=x+y\n",
    "b=x*y\n",
    "c=x/y\n",
    "d=x%y\n",
    "print(a,b,c,d)"
   ]
  },
  {
   "cell_type": "code",
   "execution_count": 7,
   "id": "90cfdae4-fa5e-492b-a417-35a61422e2f2",
   "metadata": {},
   "outputs": [
    {
     "name": "stdout",
     "output_type": "stream",
     "text": [
      "[1, 1, 2, 3, 4, 5, 7, 7, 8, 10, 20]\n"
     ]
    }
   ],
   "source": [
    "list1=[1,20,10,2,4,3,7,8,7,5,1]\n",
    "list1.sort()\n",
    "print(list1)"
   ]
  },
  {
   "cell_type": "code",
   "execution_count": 8,
   "id": "4b4493e6-a7a4-4538-975f-c93b7213c519",
   "metadata": {},
   "outputs": [
    {
     "name": "stdout",
     "output_type": "stream",
     "text": [
      "['mahdi', 'zamani', 'ahmadi', 'mohammad']\n"
     ]
    }
   ],
   "source": [
    "list1=[\"mahdi\",\"zamani\",\"ahmadi\",12,\"mohammad\"]\n",
    "list1.pop(3)\n",
    "print(list1)"
   ]
  },
  {
   "cell_type": "code",
   "execution_count": 12,
   "id": "ab72dedb-8ca1-4913-85e1-6b26bffe6916",
   "metadata": {},
   "outputs": [
    {
     "name": "stdout",
     "output_type": "stream",
     "text": [
      "['ali', 'mahdi']\n"
     ]
    }
   ],
   "source": [
    "list1=[\"ali\"]\n",
    "list1.insert(2,\"mahdi\")\n",
    "print(list1)"
   ]
  },
  {
   "cell_type": "code",
   "execution_count": 17,
   "id": "cb8a4e3c-cbbf-4f87-905a-ac1b0c4bc0b8",
   "metadata": {},
   "outputs": [
    {
     "name": "stdout",
     "output_type": "stream",
     "text": [
      "[2, 3, 5, 6, 4]\n"
     ]
    }
   ],
   "source": [
    "my_tuple=[1,2,3,5,6,4,1]\n",
    "sub=my_tuple[1:6]\n",
    "print(sub)"
   ]
  },
  {
   "cell_type": "code",
   "execution_count": 22,
   "id": "a6536ce1-01f3-4f37-8b27-241c774c07c4",
   "metadata": {},
   "outputs": [
    {
     "name": "stdin",
     "output_type": "stream",
     "text": [
      "موجودی میوه را چک کنید هلو\n"
     ]
    },
    {
     "name": "stdout",
     "output_type": "stream",
     "text": [
      "هلو موجود نیست\n"
     ]
    },
    {
     "name": "stdin",
     "output_type": "stream",
     "text": [
      "ایا میخوای اضافه بشه به مجموعه بله\n"
     ]
    },
    {
     "ename": "AttributeError",
     "evalue": "'set' object has no attribute 'append'",
     "output_type": "error",
     "traceback": [
      "\u001b[1;31m---------------------------------------------------------------------------\u001b[0m",
      "\u001b[1;31mAttributeError\u001b[0m                            Traceback (most recent call last)",
      "Cell \u001b[1;32mIn[22], line 11\u001b[0m\n\u001b[0;32m      9\u001b[0m     ap\u001b[38;5;241m=\u001b[39m\u001b[38;5;28minput\u001b[39m(\u001b[38;5;124m\"\u001b[39m\u001b[38;5;124mایا میخوای اضافه بشه به مجموعه\u001b[39m\u001b[38;5;124m\"\u001b[39m)\n\u001b[0;32m     10\u001b[0m \u001b[38;5;28;01mif\u001b[39;00m ap\u001b[38;5;241m==\u001b[39m\u001b[38;5;124m'\u001b[39m\u001b[38;5;124mبله\u001b[39m\u001b[38;5;124m'\u001b[39m:\n\u001b[1;32m---> 11\u001b[0m     \u001b[38;5;28;43mlist\u001b[39;49m\u001b[38;5;241;43m.\u001b[39;49m\u001b[43mappend\u001b[49m(ithme)\n\u001b[0;32m     12\u001b[0m     \u001b[38;5;28mprint\u001b[39m(\u001b[38;5;124m\"\u001b[39m\u001b[38;5;124mمیوه  با موفقیت اضافه شد\u001b[39m\u001b[38;5;124m\"\u001b[39m)\n\u001b[0;32m     14\u001b[0m \u001b[38;5;28;01melse\u001b[39;00m:\n",
      "\u001b[1;31mAttributeError\u001b[0m: 'set' object has no attribute 'append'"
     ]
    }
   ],
   "source": [
    "import sys\n",
    "list={\"سیب\",\"موز\",\"پرتقال\"}\n",
    "\n",
    "ithme=input(\"موجودی میوه را چک کنید\")\n",
    "if ithme in list:\n",
    "    print( ithme ,\"موجود است\")\n",
    "else:\n",
    "    print(ithme,\"موجود نیست\")\n",
    "    ap=input(\"ایا میخوای اضافه بشه به مجموعه\")\n",
    "if ap=='بله':\n",
    "    list.append(ithme)\n",
    "    print(\"میوه  با موفقیت اضافه شد\")\n",
    "        \n",
    "else:\n",
    "    print(\"اضافه نشد\")"
   ]
  },
  {
   "cell_type": "code",
   "execution_count": 1,
   "id": "697a158f-cf69-405a-8970-5a66a9993edb",
   "metadata": {},
   "outputs": [
    {
     "name": "stdout",
     "output_type": "stream",
     "text": [
      "<module 'datetime' from 'C:\\\\Users\\\\R.M\\\\AppData\\\\Local\\\\Programs\\\\Python\\\\Python312\\\\Lib\\\\datetime.py'>\n"
     ]
    }
   ],
   "source": []
  },
  {
   "cell_type": "code",
   "execution_count": 8,
   "id": "eacc9f40-2be0-4d9d-bb9f-688cc5b846ea",
   "metadata": {},
   "outputs": [
    {
     "name": "stdout",
     "output_type": "stream",
     "text": [
      "1\n",
      "2\n",
      "3\n",
      "4\n",
      "5\n",
      "6\n",
      "7\n",
      "8\n",
      "9\n",
      "10\n"
     ]
    }
   ],
   "source": [
    "i=1\n",
    "while i<=10:\n",
    "    print(i)\n",
    "    i+=1"
   ]
  },
  {
   "cell_type": "code",
   "execution_count": null,
   "id": "5bc028f2-f196-4716-8b06-bd2117596808",
   "metadata": {},
   "outputs": [],
   "source": []
  }
 ],
 "metadata": {
  "kernelspec": {
   "display_name": "Python 3 (ipykernel)",
   "language": "python",
   "name": "python3"
  },
  "language_info": {
   "codemirror_mode": {
    "name": "ipython",
    "version": 3
   },
   "file_extension": ".py",
   "mimetype": "text/x-python",
   "name": "python",
   "nbconvert_exporter": "python",
   "pygments_lexer": "ipython3",
   "version": "3.12.1"
  }
 },
 "nbformat": 4,
 "nbformat_minor": 5
}
