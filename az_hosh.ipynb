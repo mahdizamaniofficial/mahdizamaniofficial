{
  "nbformat": 4,
  "nbformat_minor": 0,
  "metadata": {
    "colab": {
      "provenance": []
    },
    "kernelspec": {
      "name": "python3",
      "display_name": "Python 3"
    },
    "language_info": {
      "name": "python"
    }
  },
  "cells": [
    {
      "cell_type": "code",
      "execution_count": null,
      "metadata": {
        "id": "OiQecinj5ZW_"
      },
      "outputs": [],
      "source": [
        "import numpy as np\n",
        "import pandas as pd\n",
        "import random\n",
        "from sklearn.model_selection import train_test_split\n",
        "from sklearn.preprocessing import MinMaxScaler\n",
        "from sklearn.neighbors import KNeighborsClassifier\n",
        "from sklearn.tree import DecisionTreeClassifier\n",
        "from sklearn.ensemble import BaggingClassifier, StackingClassifier, VotingClassifier, GradientBoostingClassifier\n",
        "from sklearn.datasets import make_classification\n",
        "\n",
        "from sklearn.metrics import confusion_matrix, accuracy_score"
      ]
    },
    {
      "cell_type": "code",
      "source": [
        "# X_data,y_labels = make_classification(n_samples=100, n_features=20, n_informative=2, n_redundant=2, n_repeated=0, n_classes=2, n_clusters_per_class=2, random_state=42)\n",
        "data = pd.read_csv('diabetes.csv')\n"
      ],
      "metadata": {
        "id": "xF0XydtH58Zx"
      },
      "execution_count": null,
      "outputs": []
    },
    {
      "cell_type": "code",
      "source": [
        "scaler = MinMaxScaler()\n",
        "X_data_normalized = scaler.fit_transform(X_data)"
      ],
      "metadata": {
        "id": "fDOkCHi77KM2"
      },
      "execution_count": null,
      "outputs": []
    },
    {
      "cell_type": "code",
      "source": [
        "X_train, X_test, y_train, y_test = train_test_split(X_data_normalized, y_labels, test_size=0.3, random_state=42)"
      ],
      "metadata": {
        "id": "nUNwWkt47vm5"
      },
      "execution_count": null,
      "outputs": []
    },
    {
      "cell_type": "code",
      "source": [
        "knn = KNeighborsClassifier(n_neighbors=5)\n",
        "dt = DecisionTreeClassifier(random_state=42)"
      ],
      "metadata": {
        "id": "Vj8_DZnb71Z2"
      },
      "execution_count": null,
      "outputs": []
    },
    {
      "cell_type": "code",
      "source": [
        "bagging_model = BaggingClassifier(estimator=dt, n_estimators=10, random_state=42)\n",
        "bagging_model.fit(X_train, y_train)\n",
        "bagging_pred=bagging_model.predict(X_test)\n",
        "bagging_model.predict(X_test)\n",
        "accuracy_score(y_test, bagging_pred)\n"
      ],
      "metadata": {
        "id": "qem1xpno76gz",
        "colab": {
          "base_uri": "https://localhost:8080/"
        },
        "outputId": "5f9d4658-ca9c-4716-a01a-8259bb862667"
      },
      "execution_count": null,
      "outputs": [
        {
          "output_type": "execute_result",
          "data": {
            "text/plain": [
              "0.9333333333333333"
            ]
          },
          "metadata": {},
          "execution_count": 63
        }
      ]
    },
    {
      "cell_type": "code",
      "source": [
        "stacking_model = StackingClassifier(estimators=[('knn', knn), ('dt', dt)], final_estimator=KNeighborsClassifier())\n",
        "stacking_model.fit(X_train, y_train)\n",
        "stacking_pred = stacking_model.predict(X_test)\n",
        "accuracy_score(y_test, stacking_pred)\n"
      ],
      "metadata": {
        "id": "iQUvzeI5IHuQ",
        "colab": {
          "base_uri": "https://localhost:8080/"
        },
        "outputId": "016155c6-6702-4f29-9ade-255c9c3b4514"
      },
      "execution_count": null,
      "outputs": [
        {
          "output_type": "execute_result",
          "data": {
            "text/plain": [
              "0.9333333333333333"
            ]
          },
          "metadata": {},
          "execution_count": 64
        }
      ]
    },
    {
      "cell_type": "code",
      "source": [
        "boosting_model = GradientBoostingClassifier(n_estimators=100, random_state=42)\n",
        "boosting_model.fit(X_train, y_train)\n",
        "boosting_pred = boosting_model.predict(X_test)\n",
        "accuracy_score(y_test, boosting_pred)\n"
      ],
      "metadata": {
        "id": "CgM0lels7E4e",
        "colab": {
          "base_uri": "https://localhost:8080/"
        },
        "outputId": "544989d0-aa07-4e00-bb0d-b188a0301bc2"
      },
      "execution_count": null,
      "outputs": [
        {
          "output_type": "execute_result",
          "data": {
            "text/plain": [
              "0.9333333333333333"
            ]
          },
          "metadata": {},
          "execution_count": 65
        }
      ]
    },
    {
      "cell_type": "code",
      "source": [
        "voting_model = VotingClassifier(estimators=[('knn', knn), ('dt', dt)], voting='hard')\n",
        "voting_model.fit(X_train, y_train)\n",
        "voting_pred = voting_model.predict(X_test)\n",
        "accuracy_score(y_test, voting_pred)\n"
      ],
      "metadata": {
        "colab": {
          "base_uri": "https://localhost:8080/"
        },
        "id": "pRK54gbnLYLs",
        "outputId": "864291a7-2d5c-4b90-b46a-c71b5fc0a1fd"
      },
      "execution_count": null,
      "outputs": [
        {
          "output_type": "execute_result",
          "data": {
            "text/plain": [
              "0.9666666666666667"
            ]
          },
          "metadata": {},
          "execution_count": 66
        }
      ]
    },
    {
      "cell_type": "code",
      "source": [],
      "metadata": {
        "id": "y3MBE-BPMUai"
      },
      "execution_count": null,
      "outputs": []
    }
  ]
}